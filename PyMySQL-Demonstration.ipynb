{
 "cells": [
  {
   "cell_type": "markdown",
   "id": "26b690cd",
   "metadata": {},
   "source": [
    "https://stackoverflow.com/questions/6885164/pymysql-cant-connect-to-mysql-on-localhost"
   ]
  },
  {
   "cell_type": "code",
   "execution_count": null,
   "id": "2484ad29",
   "metadata": {},
   "outputs": [],
   "source": [
    "conn = pymysql.connect(\n",
    "    host = '127.0.0.1',\n",
    "    port = 3306,\n",
    "    user = 'root',\n",
    "    passwd = 'XXXXXXXXX',\n",
    "    db = 'mysql'\n",
    ")"
   ]
  }
 ],
 "metadata": {
  "kernelspec": {
   "display_name": "sandbox",
   "language": "python",
   "name": "sandbox"
  },
  "language_info": {
   "codemirror_mode": {
    "name": "ipython",
    "version": 3
   },
   "file_extension": ".py",
   "mimetype": "text/x-python",
   "name": "python",
   "nbconvert_exporter": "python",
   "pygments_lexer": "ipython3",
   "version": "3.10.5"
  }
 },
 "nbformat": 4,
 "nbformat_minor": 5
}
